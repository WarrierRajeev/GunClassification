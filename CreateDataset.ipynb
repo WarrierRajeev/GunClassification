{
 "cells": [
  {
   "cell_type": "code",
   "execution_count": 1,
   "metadata": {},
   "outputs": [],
   "source": [
    "from fastai.vision import *"
   ]
  },
  {
   "cell_type": "code",
   "execution_count": 2,
   "metadata": {},
   "outputs": [],
   "source": [
    "folders = ['revolver', 'glock', 'desert_eagle']\n",
    "files = ['revolver.txt', 'glock.txt', 'desert_eagle.txt']"
   ]
  },
  {
   "cell_type": "code",
   "execution_count": 3,
   "metadata": {},
   "outputs": [],
   "source": [
    "path = Path('data/guns')\n",
    "for folder in folders:\n",
    "    dest = path/folder\n",
    "    dest.mkdir(parents=True, exist_ok=True)"
   ]
  },
  {
   "cell_type": "markdown",
   "metadata": {},
   "source": [
    "#### Add the URL text files into the Guns Folder:\n",
    "1. desert_eagle.txt\n",
    "2. glock.txt\n",
    "3. revolver.txt"
   ]
  },
  {
   "cell_type": "code",
   "execution_count": 4,
   "metadata": {},
   "outputs": [
    {
     "data": {
      "text/plain": [
       "[PosixPath('data/guns/glock.txt'),\n",
       " PosixPath('data/guns/revolver.txt'),\n",
       " PosixPath('data/guns/desert_eagle'),\n",
       " PosixPath('data/guns/revolver'),\n",
       " PosixPath('data/guns/desert_eagle.txt'),\n",
       " PosixPath('data/guns/glock')]"
      ]
     },
     "execution_count": 4,
     "metadata": {},
     "output_type": "execute_result"
    }
   ],
   "source": [
    "path.ls()"
   ]
  },
  {
   "cell_type": "code",
   "execution_count": 5,
   "metadata": {},
   "outputs": [
    {
     "data": {
      "text/html": [
       "\n",
       "    <div>\n",
       "        <style>\n",
       "            /* Turns off some styling */\n",
       "            progress {\n",
       "                /* gets rid of default border in Firefox and Opera. */\n",
       "                border: none;\n",
       "                /* Needs to be in here for Safari polyfill so background images work as expected. */\n",
       "                background-size: auto;\n",
       "            }\n",
       "            .progress-bar-interrupted, .progress-bar-interrupted::-webkit-progress-bar {\n",
       "                background: #F44336;\n",
       "            }\n",
       "        </style>\n",
       "      <progress value='350' class='' max='350', style='width:300px; height:20px; vertical-align: middle;'></progress>\n",
       "      100.00% [350/350 00:16<00:00]\n",
       "    </div>\n",
       "    "
      ],
      "text/plain": [
       "<IPython.core.display.HTML object>"
      ]
     },
     "metadata": {},
     "output_type": "display_data"
    },
    {
     "name": "stdout",
     "output_type": "stream",
     "text": [
      "Error https://www.thefirearmblog.com/blog/wp-content/uploads/2018/02/27545285_10157282989527818_5260887162776174847_n-920x613.jpg HTTPConnectionPool(host='127.0.0.1', port=80): Max retries exceeded with url: / (Caused by NewConnectionError('<urllib3.connection.HTTPConnection object at 0x7f9f0f4889e8>: Failed to establish a new connection: [Errno 111] Connection refused',))\n",
      "Error https://www.kimberamerica.com/media/catalog/category/Revolver_-_Hero_Image.png HTTPSConnectionPool(host='www.kimberamerica.com', port=443): Max retries exceeded with url: /media/catalog/category/Revolver_-_Hero_Image.png (Caused by SSLError(SSLError(\"bad handshake: Error([('SSL routines', 'ssl3_get_server_certificate', 'certificate verify failed')],)\",),))\n",
      "Error https://www.kimberamerica.com/media/catalog/category/k6s_TLE2in_285x312.png HTTPSConnectionPool(host='www.kimberamerica.com', port=443): Max retries exceeded with url: /media/catalog/category/k6s_TLE2in_285x312.png (Caused by SSLError(SSLError(\"bad handshake: Error([('SSL routines', 'ssl3_get_server_certificate', 'certificate verify failed')],)\",),))\n",
      "Error https://www.thefirearmblog.com/blog/wp-content/uploads/2019/01/Standard-Manufacturing-S333-VOLLEYFIRE-Double-Barrel-Revolver-1-660x489.jpg HTTPConnectionPool(host='127.0.0.1', port=80): Max retries exceeded with url: / (Caused by NewConnectionError('<urllib3.connection.HTTPConnection object at 0x7f9f0f4a4860>: Failed to establish a new connection: [Errno 111] Connection refused',))\n",
      "Error https://www.kimberamerica.com/media/catalog/category/k6s_DASA3in_285x312.png HTTPSConnectionPool(host='www.kimberamerica.com', port=443): Max retries exceeded with url: /media/catalog/category/k6s_DASA3in_285x312.png (Caused by SSLError(SSLError(\"bad handshake: Error([('SSL routines', 'ssl3_get_server_certificate', 'certificate verify failed')],)\",),))\n",
      "Error https://north40.com/media/catalog/product/cache/1/image/500x500/9df78eab33525d08d6e5fb8d27136e95/r/u/ruger_vaquero_stainless_357_mag_revolver_290606.jpg HTTPSConnectionPool(host='north40.com', port=443): Max retries exceeded with url: /media/catalog/product/cache/1/image/500x500/9df78eab33525d08d6e5fb8d27136e95/r/u/ruger_vaquero_stainless_357_mag_revolver_290606.jpg (Caused by ConnectTimeoutError(<urllib3.connection.VerifiedHTTPSConnection object at 0x7f9f0f8e8278>, 'Connection to north40.com timed out. (connect timeout=4)'))\n",
      "Error http://www.theboxotruth.com/wp-content/uploads/2014/05/e46-1.jpg HTTPConnectionPool(host='127.0.0.1', port=80): Max retries exceeded with url: / (Caused by NewConnectionError('<urllib3.connection.HTTPConnection object at 0x7f9f0f46d9b0>: Failed to establish a new connection: [Errno 111] Connection refused',))\n",
      "\n",
      " Download of https://www.vanceoutdoors.com/range/blog/images/s&w_model_36_chiefs_special.jpg has failed after 5 retries\n",
      " Fix the download manually:\n",
      "$ mkdir -p /storage\n",
      "$ cd /storage\n",
      "$ wget -c https://www.vanceoutdoors.com/range/blog/images/s&w_model_36_chiefs_special.jpg\n",
      "$ tar -zxvf s&w_model_36_chiefs_special.jpg\n",
      "\n",
      "And re-run your code once the download is successful\n",
      "\n"
     ]
    },
    {
     "data": {
      "text/html": [
       "\n",
       "    <div>\n",
       "        <style>\n",
       "            /* Turns off some styling */\n",
       "            progress {\n",
       "                /* gets rid of default border in Firefox and Opera. */\n",
       "                border: none;\n",
       "                /* Needs to be in here for Safari polyfill so background images work as expected. */\n",
       "                background-size: auto;\n",
       "            }\n",
       "            .progress-bar-interrupted, .progress-bar-interrupted::-webkit-progress-bar {\n",
       "                background: #F44336;\n",
       "            }\n",
       "        </style>\n",
       "      <progress value='350' class='' max='350', style='width:300px; height:20px; vertical-align: middle;'></progress>\n",
       "      100.00% [350/350 00:09<00:00]\n",
       "    </div>\n",
       "    "
      ],
      "text/plain": [
       "<IPython.core.display.HTML object>"
      ]
     },
     "metadata": {},
     "output_type": "display_data"
    },
    {
     "name": "stdout",
     "output_type": "stream",
     "text": [
      "Error https://www.thefirearmblog.com/blog/wp-content/uploads/2018/05/Proof-Mark-Muzzle-Stand-off-Device-MSD-for-Glock-19-Pistols-10.jpg HTTPConnectionPool(host='127.0.0.1', port=80): Max retries exceeded with url: / (Caused by NewConnectionError('<urllib3.connection.HTTPConnection object at 0x7f9f0e84c518>: Failed to establish a new connection: [Errno 111] Connection refused',))\n",
      "Error https://www.thefirearmblog.com/blog/wp-content/uploads/2017/10/IMG_4656-920x690.jpg HTTPConnectionPool(host='127.0.0.1', port=80): Max retries exceeded with url: / (Caused by NewConnectionError('<urllib3.connection.HTTPConnection object at 0x7f9f0e870b70>: Failed to establish a new connection: [Errno 111] Connection refused',))\n",
      "Error https://www.sharkcoasttactical.com/media/catalog/product/cache/1/image/9df78eab33525d08d6e5fb8d27136e95/3/1/31967895_1727802077288475_4040252795926872064_n.jpg ('Connection aborted.', RemoteDisconnected('Remote end closed connection without response',))\n",
      "Error https://www.weaponsmart.com/media/catalog/product/cache/1/image/9df78eab33525d08d6e5fb8d27136e95/w/e/weaponsmart-6236-149.jpg ('Connection aborted.', RemoteDisconnected('Remote end closed connection without response',))\n",
      "Error https://bigip-atg-prod-spor-oracleoutsourcing.oracle.com/img/products/original/glock_g19_gen4_pistol_1476819_3.jpg HTTPSConnectionPool(host='bigip-atg-prod-spor-oracleoutsourcing.oracle.com', port=443): Max retries exceeded with url: /img/products/original/glock_g19_gen4_pistol_1476819_3.jpg (Caused by SSLError(CertificateError(\"hostname 'bigip-atg-prod-spor-oracleoutsourcing.oracle.com' doesn't match either of 'www.sportsmanswarehouse.com', 'sportsmanswarehouse.com'\",),))\n",
      "Error https://www.wmdguns.com/media/catalog/product/cache/1/small_image/9df78eab33525d08d6e5fb8d27136e95/g/l/glock_19_gen_4.jpg ('Connection aborted.', RemoteDisconnected('Remote end closed connection without response',))\n",
      "Error https://www.glocktalk.com/attachments/313091/ HTTPConnectionPool(host='127.0.0.1', port=80): Max retries exceeded with url: / (Caused by NewConnectionError('<urllib3.connection.HTTPConnection object at 0x7f9f0e88e7b8>: Failed to establish a new connection: [Errno 111] Connection refused',))\n",
      "Error https://www.thefirearmblog.com/blog/wp-content/uploads/2018/01/glock-19-canada-660x587.jpg HTTPConnectionPool(host='127.0.0.1', port=80): Max retries exceeded with url: / (Caused by NewConnectionError('<urllib3.connection.HTTPConnection object at 0x7f9f0e890160>: Failed to establish a new connection: [Errno 111] Connection refused',))\n",
      "Error https://www.alloutdoor.com/wp-content/uploads/2014/07/100_4875-660x495.jpg HTTPConnectionPool(host='127.0.0.1', port=80): Max retries exceeded with url: / (Caused by NewConnectionError('<urllib3.connection.HTTPConnection object at 0x7f9f0e8a2be0>: Failed to establish a new connection: [Errno 111] Connection refused',))\n",
      "Error https://www.glocktalk.com/attachments/6ab16516-4f00-4fee-b1aa-adc165dd4b55-jpeg.510736/ HTTPConnectionPool(host='127.0.0.1', port=80): Max retries exceeded with url: / (Caused by NewConnectionError('<urllib3.connection.HTTPConnection object at 0x7f9f0e883da0>: Failed to establish a new connection: [Errno 111] Connection refused',))\n",
      "Error https://www.weaponoutfitters.com/media/catalog/product/cache/1/image/900x800/9df78eab33525d08d6e5fb8d27136e95/r/o/roland_1.jpg ('Connection aborted.', RemoteDisconnected('Remote end closed connection without response',))\n",
      "Error https://www.thefirearmblog.com/blog/wp-content/uploads/2017/10/IMG_4702.jpg HTTPConnectionPool(host='127.0.0.1', port=80): Max retries exceeded with url: / (Caused by NewConnectionError('<urllib3.connection.HTTPConnection object at 0x7f9f0e883668>: Failed to establish a new connection: [Errno 111] Connection refused',))\n"
     ]
    },
    {
     "data": {
      "text/html": [
       "\n",
       "    <div>\n",
       "        <style>\n",
       "            /* Turns off some styling */\n",
       "            progress {\n",
       "                /* gets rid of default border in Firefox and Opera. */\n",
       "                border: none;\n",
       "                /* Needs to be in here for Safari polyfill so background images work as expected. */\n",
       "                background-size: auto;\n",
       "            }\n",
       "            .progress-bar-interrupted, .progress-bar-interrupted::-webkit-progress-bar {\n",
       "                background: #F44336;\n",
       "            }\n",
       "        </style>\n",
       "      <progress value='350' class='' max='350', style='width:300px; height:20px; vertical-align: middle;'></progress>\n",
       "      100.00% [350/350 00:14<00:00]\n",
       "    </div>\n",
       "    "
      ],
      "text/plain": [
       "<IPython.core.display.HTML object>"
      ]
     },
     "metadata": {},
     "output_type": "display_data"
    },
    {
     "name": "stdout",
     "output_type": "stream",
     "text": [
      "Error https://www.thefirearmblog.com/blog/wp-content/uploads/2017/01/Desert-Eagle-Mark-XIX-6-inch-Component-System.jpg HTTPConnectionPool(host='127.0.0.1', port=80): Max retries exceeded with url: / (Caused by NewConnectionError('<urllib3.connection.HTTPConnection object at 0x7f9f0e85fb00>: Failed to establish a new connection: [Errno 111] Connection refused',))\n",
      "\n",
      " Download of https://www.turners.com/prodimages/8297-DEFAULT-l.jpg has failed after 5 retries\n",
      " Fix the download manually:\n",
      "$ mkdir -p /storage\n",
      "$ cd /storage\n",
      "$ wget -c https://www.turners.com/prodimages/8297-DEFAULT-l.jpg\n",
      "$ tar -zxvf 8297-DEFAULT-l.jpg\n",
      "\n",
      "And re-run your code once the download is successful\n",
      "\n",
      "Error http://files.harrispublications.com/wp-content/uploads/sites/6/2015/12/magnum-research-Desert-Eagle-1911-GSS-9.jpg HTTPConnectionPool(host='files.harrispublications.com', port=80): Max retries exceeded with url: /wp-content/uploads/sites/6/2015/12/magnum-research-Desert-Eagle-1911-GSS-9.jpg (Caused by NewConnectionError('<urllib3.connection.HTTPConnection object at 0x7f9f0e883048>: Failed to establish a new connection: [Errno -2] Name or service not known',))\n",
      "Error https://www.thefirearmblog.com/blog/wp-content/uploads/2018/11/429-DE-New-Cartridge-for-Desert-Eagle-Pistol-1-660x380.jpg HTTPConnectionPool(host='127.0.0.1', port=80): Max retries exceeded with url: / (Caused by NewConnectionError('<urllib3.connection.HTTPConnection object at 0x7f9f0e883668>: Failed to establish a new connection: [Errno 111] Connection refused',))\n",
      "Error https://www.thefirearmblog.com/blog/wp-content/uploads/2009/01/micro-de.jpg HTTPConnectionPool(host='127.0.0.1', port=80): Max retries exceeded with url: / (Caused by NewConnectionError('<urllib3.connection.HTTPConnection object at 0x7f9f0e8992e8>: Failed to establish a new connection: [Errno 111] Connection refused',))\n"
     ]
    }
   ],
   "source": [
    "for folder,file in zip(folders,files):\n",
    "    download_images(path/file, path/folder, max_pics=350)"
   ]
  },
  {
   "cell_type": "code",
   "execution_count": 6,
   "metadata": {},
   "outputs": [
    {
     "name": "stdout",
     "output_type": "stream",
     "text": [
      "revolver\n"
     ]
    },
    {
     "data": {
      "text/html": [
       "\n",
       "    <div>\n",
       "        <style>\n",
       "            /* Turns off some styling */\n",
       "            progress {\n",
       "                /* gets rid of default border in Firefox and Opera. */\n",
       "                border: none;\n",
       "                /* Needs to be in here for Safari polyfill so background images work as expected. */\n",
       "                background-size: auto;\n",
       "            }\n",
       "            .progress-bar-interrupted, .progress-bar-interrupted::-webkit-progress-bar {\n",
       "                background: #F44336;\n",
       "            }\n",
       "        </style>\n",
       "      <progress value='336' class='' max='336', style='width:300px; height:20px; vertical-align: middle;'></progress>\n",
       "      100.00% [336/336 00:02<00:00]\n",
       "    </div>\n",
       "    "
      ],
      "text/plain": [
       "<IPython.core.display.HTML object>"
      ]
     },
     "metadata": {},
     "output_type": "display_data"
    },
    {
     "name": "stdout",
     "output_type": "stream",
     "text": [
      "cannot identify image file <_io.BufferedReader name='data/guns/revolver/00000047.jpg'>\n",
      "cannot identify image file <_io.BufferedReader name='data/guns/revolver/00000005.jpg'>\n",
      "cannot identify image file <_io.BufferedReader name='data/guns/revolver/00000085.jpg'>\n",
      "cannot identify image file <_io.BufferedReader name='data/guns/revolver/00000295.jpg'>\n",
      "cannot identify image file <_io.BufferedReader name='data/guns/revolver/00000270.jpg'>\n",
      "cannot identify image file <_io.BufferedReader name='data/guns/revolver/00000110.jpg'>\n",
      "cannot identify image file <_io.BufferedReader name='data/guns/revolver/00000301.jpg'>\n",
      "cannot identify image file <_io.BufferedReader name='data/guns/revolver/00000063.jpg'>\n",
      "Image data/guns/revolver/00000217.png has 1 instead of 3 channels\n",
      "cannot identify image file <_io.BufferedReader name='data/guns/revolver/00000227.jpg'>\n",
      "cannot identify image file <_io.BufferedReader name='data/guns/revolver/00000154.JPG'>\n",
      "cannot identify image file <_io.BufferedReader name='data/guns/revolver/00000156.jpg'>\n",
      "Image data/guns/revolver/00000337.png has 4 instead of 3 channels\n",
      "cannot identify image file <_io.BufferedReader name='data/guns/revolver/00000173.jpg'>\n",
      "cannot identify image file <_io.BufferedReader name='data/guns/revolver/00000090.jpg'>\n",
      "cannot identify image file <_io.BufferedReader name='data/guns/revolver/00000252.jpg'>\n",
      "cannot identify image file <_io.BufferedReader name='data/guns/revolver/00000344.jpg'>\n",
      "cannot identify image file <_io.BufferedReader name='data/guns/revolver/00000211.jpg'>\n",
      "cannot identify image file <_io.BufferedReader name='data/guns/revolver/00000092.jpeg'>\n",
      "image file is truncated (2 bytes not processed)\n",
      "cannot identify image file <_io.BufferedReader name='data/guns/revolver/00000025.JPG'>\n",
      "cannot identify image file <_io.BufferedReader name='data/guns/revolver/00000105.jpg'>\n",
      "cannot identify image file <_io.BufferedReader name='data/guns/revolver/00000282.jpg'>\n",
      "cannot identify image file <_io.BufferedReader name='data/guns/revolver/00000046.jpg'>\n",
      "cannot identify image file <_io.BufferedReader name='data/guns/revolver/00000216.jpg'>\n",
      "cannot identify image file <_io.BufferedReader name='data/guns/revolver/00000341.jpg'>\n",
      "cannot identify image file <_io.BufferedReader name='data/guns/revolver/00000115.jpg'>\n",
      "cannot identify image file <_io.BufferedReader name='data/guns/revolver/00000189.jpg'>\n",
      "Image data/guns/revolver/00000264.png has 1 instead of 3 channels\n",
      "cannot identify image file <_io.BufferedReader name='data/guns/revolver/00000310.jpg'>\n",
      "cannot identify image file <_io.BufferedReader name='data/guns/revolver/00000307.jpg'>\n",
      "cannot identify image file <_io.BufferedReader name='data/guns/revolver/00000304.jpg'>\n",
      "cannot identify image file <_io.BufferedReader name='data/guns/revolver/00000023.jpg'>\n",
      "glock\n"
     ]
    },
    {
     "data": {
      "text/html": [
       "\n",
       "    <div>\n",
       "        <style>\n",
       "            /* Turns off some styling */\n",
       "            progress {\n",
       "                /* gets rid of default border in Firefox and Opera. */\n",
       "                border: none;\n",
       "                /* Needs to be in here for Safari polyfill so background images work as expected. */\n",
       "                background-size: auto;\n",
       "            }\n",
       "            .progress-bar-interrupted, .progress-bar-interrupted::-webkit-progress-bar {\n",
       "                background: #F44336;\n",
       "            }\n",
       "        </style>\n",
       "      <progress value='332' class='' max='332', style='width:300px; height:20px; vertical-align: middle;'></progress>\n",
       "      100.00% [332/332 00:03<00:00]\n",
       "    </div>\n",
       "    "
      ],
      "text/plain": [
       "<IPython.core.display.HTML object>"
      ]
     },
     "metadata": {},
     "output_type": "display_data"
    },
    {
     "name": "stdout",
     "output_type": "stream",
     "text": [
      "cannot identify image file <_io.BufferedReader name='data/guns/glock/00000325.jpg'>\n",
      "cannot identify image file <_io.BufferedReader name='data/guns/glock/00000178.jpg'>\n",
      "cannot identify image file <_io.BufferedReader name='data/guns/glock/00000257.jpg'>\n",
      "Image data/guns/glock/00000132.jpg has 4 instead of 3 channels\n",
      "cannot identify image file <_io.BufferedReader name='data/guns/glock/00000094.jpg'>\n",
      "Image data/guns/glock/00000226.png has 4 instead of 3 channels\n",
      "cannot identify image file <_io.BufferedReader name='data/guns/glock/00000303.jpg'>\n",
      "cannot identify image file <_io.BufferedReader name='data/guns/glock/00000156.jpg'>\n",
      "Image data/guns/glock/00000286.jpeg has 1 instead of 3 channels\n",
      "cannot identify image file <_io.BufferedReader name='data/guns/glock/00000173.jpg'>\n",
      "cannot identify image file <_io.BufferedReader name='data/guns/glock/00000150.jpg'>\n",
      "cannot identify image file <_io.BufferedReader name='data/guns/glock/00000191.jpg'>\n",
      "cannot identify image file <_io.BufferedReader name='data/guns/glock/00000002.jpg'>\n",
      "cannot identify image file <_io.BufferedReader name='data/guns/glock/00000252.jpg'>\n",
      "cannot identify image file <_io.BufferedReader name='data/guns/glock/00000041.JPG'>\n",
      "cannot identify image file <_io.BufferedReader name='data/guns/glock/00000230.jpg'>\n",
      "cannot identify image file <_io.BufferedReader name='data/guns/glock/00000172.jpg'>\n",
      "cannot identify image file <_io.BufferedReader name='data/guns/glock/00000079.jpg'>\n",
      "cannot identify image file <_io.BufferedReader name='data/guns/glock/00000034.JPG'>\n",
      "cannot identify image file <_io.BufferedReader name='data/guns/glock/00000088.JPG'>\n",
      "cannot identify image file <_io.BufferedReader name='data/guns/glock/00000165.jpg'>\n",
      "cannot identify image file <_io.BufferedReader name='data/guns/glock/00000060.jpg'>\n",
      "cannot identify image file <_io.BufferedReader name='data/guns/glock/00000069.jpg'>\n",
      "cannot identify image file <_io.BufferedReader name='data/guns/glock/00000072.jpg'>\n",
      "cannot identify image file <_io.BufferedReader name='data/guns/glock/00000225.jpg'>\n",
      "cannot identify image file <_io.BufferedReader name='data/guns/glock/00000026.jpg'>\n",
      "cannot identify image file <_io.BufferedReader name='data/guns/glock/00000020.jpg'>\n",
      "cannot identify image file <_io.BufferedReader name='data/guns/glock/00000125.jpg'>\n",
      "cannot identify image file <_io.BufferedReader name='data/guns/glock/00000237.jpg'>\n",
      "cannot identify image file <_io.BufferedReader name='data/guns/glock/00000318.jpg'>\n",
      "desert_eagle\n"
     ]
    },
    {
     "data": {
      "text/html": [
       "\n",
       "    <div>\n",
       "        <style>\n",
       "            /* Turns off some styling */\n",
       "            progress {\n",
       "                /* gets rid of default border in Firefox and Opera. */\n",
       "                border: none;\n",
       "                /* Needs to be in here for Safari polyfill so background images work as expected. */\n",
       "                background-size: auto;\n",
       "            }\n",
       "            .progress-bar-interrupted, .progress-bar-interrupted::-webkit-progress-bar {\n",
       "                background: #F44336;\n",
       "            }\n",
       "        </style>\n",
       "      <progress value='343' class='' max='343', style='width:300px; height:20px; vertical-align: middle;'></progress>\n",
       "      100.00% [343/343 00:02<00:00]\n",
       "    </div>\n",
       "    "
      ],
      "text/plain": [
       "<IPython.core.display.HTML object>"
      ]
     },
     "metadata": {},
     "output_type": "display_data"
    },
    {
     "name": "stdout",
     "output_type": "stream",
     "text": [
      "cannot identify image file <_io.BufferedReader name='data/guns/desert_eagle/00000106.jpg'>\n",
      "cannot identify image file <_io.BufferedReader name='data/guns/desert_eagle/00000081.jpg'>\n",
      "cannot identify image file <_io.BufferedReader name='data/guns/desert_eagle/00000056.JPG'>\n",
      "cannot identify image file <_io.BufferedReader name='data/guns/desert_eagle/00000314.jpg'>\n",
      "cannot identify image file <_io.BufferedReader name='data/guns/desert_eagle/00000218.jpg'>\n",
      "cannot identify image file <_io.BufferedReader name='data/guns/desert_eagle/00000221.jpg'>\n",
      "cannot identify image file <_io.BufferedReader name='data/guns/desert_eagle/00000057.jpg'>\n",
      "cannot identify image file <_io.BufferedReader name='data/guns/desert_eagle/00000244.jpg'>\n",
      "cannot identify image file <_io.BufferedReader name='data/guns/desert_eagle/00000288.jpg'>\n",
      "cannot identify image file <_io.BufferedReader name='data/guns/desert_eagle/00000327.jpg'>\n",
      "cannot identify image file <_io.BufferedReader name='data/guns/desert_eagle/00000052.jpeg'>\n",
      "cannot identify image file <_io.BufferedReader name='data/guns/desert_eagle/00000002.jpg'>\n"
     ]
    },
    {
     "name": "stderr",
     "output_type": "stream",
     "text": [
      "/opt/conda/envs/fastai/lib/python3.6/site-packages/PIL/Image.py:969: UserWarning: Palette images with Transparency   expressed in bytes should be converted to RGBA images\n",
      "  'to RGBA images')\n"
     ]
    },
    {
     "name": "stdout",
     "output_type": "stream",
     "text": [
      "cannot identify image file <_io.BufferedReader name='data/guns/desert_eagle/00000297.jpg'>\n",
      "cannot identify image file <_io.BufferedReader name='data/guns/desert_eagle/00000259.jpg'>\n",
      "cannot identify image file <_io.BufferedReader name='data/guns/desert_eagle/00000285.jpg'>\n",
      "cannot identify image file <_io.BufferedReader name='data/guns/desert_eagle/00000088.jpg'>\n",
      "Image data/guns/desert_eagle/00000234.png has 1 instead of 3 channels\n",
      "cannot identify image file <_io.BufferedReader name='data/guns/desert_eagle/00000172.jpg'>\n",
      "cannot identify image file <_io.BufferedReader name='data/guns/desert_eagle/00000080.jpg'>\n",
      "cannot identify image file <_io.BufferedReader name='data/guns/desert_eagle/00000287.jpg'>\n",
      "cannot identify image file <_io.BufferedReader name='data/guns/desert_eagle/00000050.jpg'>\n",
      "cannot identify image file <_io.BufferedReader name='data/guns/desert_eagle/00000256.jpg'>\n",
      "cannot identify image file <_io.BufferedReader name='data/guns/desert_eagle/00000230.JPG'>\n",
      "cannot identify image file <_io.BufferedReader name='data/guns/desert_eagle/00000192.jpg'>\n",
      "Image data/guns/desert_eagle/00000301.gif has 1 instead of 3 channels\n",
      "cannot identify image file <_io.BufferedReader name='data/guns/desert_eagle/00000032.jpg'>\n"
     ]
    },
    {
     "name": "stderr",
     "output_type": "stream",
     "text": [
      "/opt/conda/envs/fastai/lib/python3.6/site-packages/PIL/Image.py:969: UserWarning: Palette images with Transparency   expressed in bytes should be converted to RGBA images\n",
      "  'to RGBA images')\n"
     ]
    },
    {
     "name": "stdout",
     "output_type": "stream",
     "text": [
      "cannot identify image file <_io.BufferedReader name='data/guns/desert_eagle/00000321.jpg'>\n"
     ]
    },
    {
     "name": "stderr",
     "output_type": "stream",
     "text": [
      "/opt/conda/envs/fastai/lib/python3.6/site-packages/PIL/Image.py:969: UserWarning: Palette images with Transparency   expressed in bytes should be converted to RGBA images\n",
      "  'to RGBA images')\n"
     ]
    },
    {
     "name": "stdout",
     "output_type": "stream",
     "text": [
      "Image data/guns/desert_eagle/00000155.jpg has 4 instead of 3 channels\n",
      "cannot identify image file <_io.BufferedReader name='data/guns/desert_eagle/00000124.jpg'>\n",
      "cannot identify image file <_io.BufferedReader name='data/guns/desert_eagle/00000145.JPG'>\n",
      "cannot identify image file <_io.BufferedReader name='data/guns/desert_eagle/00000335.jpg'>\n",
      "cannot identify image file <_io.BufferedReader name='data/guns/desert_eagle/00000237.jpg'>\n",
      "cannot identify image file <_io.BufferedReader name='data/guns/desert_eagle/00000113.jpg'>\n",
      "cannot identify image file <_io.BufferedReader name='data/guns/desert_eagle/00000076.png'>\n"
     ]
    }
   ],
   "source": [
    "classes = ['revolver', 'glock', 'desert_eagle']\n",
    "for c in classes:\n",
    "    print(c)\n",
    "    verify_images(path/c, delete=True, max_size=500)"
   ]
  },
  {
   "cell_type": "code",
   "execution_count": null,
   "metadata": {},
   "outputs": [],
   "source": []
  }
 ],
 "metadata": {
  "kernelspec": {
   "display_name": "Python 3",
   "language": "python",
   "name": "python3"
  },
  "language_info": {
   "codemirror_mode": {
    "name": "ipython",
    "version": 3
   },
   "file_extension": ".py",
   "mimetype": "text/x-python",
   "name": "python",
   "nbconvert_exporter": "python",
   "pygments_lexer": "ipython3",
   "version": "3.6.7"
  }
 },
 "nbformat": 4,
 "nbformat_minor": 2
}
